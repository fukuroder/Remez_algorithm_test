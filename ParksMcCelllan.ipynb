{
 "cells": [
  {
   "cell_type": "code",
   "execution_count": 40,
   "metadata": {},
   "outputs": [],
   "source": [
    "import numpy as np\n",
    "import matplotlib.pyplot as plt\n",
    "from copy import deepcopy"
   ]
  },
  {
   "cell_type": "code",
   "execution_count": 41,
   "metadata": {},
   "outputs": [],
   "source": [
    "def firapm(h, L):\n",
    "    n = len(h)\n",
    "    H = np.fft.fft(h, 2 * L)\n",
    "    H = H[0:L]\n",
    "    w = np.arange(0, L, 1) * np.pi / L\n",
    "    m = (n-1)/2\n",
    "    j = complex(0, 1)\n",
    "    H = np.multiply(np.exp(m*j*w), H)\n",
    "    H = np.real(H)\n",
    "    return H"
   ]
  },
  {
   "cell_type": "code",
   "execution_count": 42,
   "metadata": {},
   "outputs": [],
   "source": [
    "def ideal_filter(x, bandedge, filttype):\n",
    "    if filttype == 'High':\n",
    "        return 1.0 if x > bandedge else 0.0\n",
    "    elif filttype == 'Low':\n",
    "        return 1.0 if x < bandedge else 0.0\n",
    "    else:\n",
    "        print(\"filter type is invalid, choose High or Low.\")"
   ]
  },
  {
   "cell_type": "code",
   "execution_count": 43,
   "metadata": {},
   "outputs": [],
   "source": [
    "def coefficient_matrix(x, a, order = 0):\n",
    "    if order == 0:\n",
    "        return sum(a*np.cos(x*k) for k,a in enumerate(a))\n",
    "    elif order == 1:\n",
    "        return sum(-a*k*np.sin(x*k) for k,a in enumerate(a))\n",
    "    else:\n",
    "        return sum(-a*k*k*np.cos(x*k) for k,a in enumerate(a))"
   ]
  },
  {
   "cell_type": "code",
   "execution_count": 44,
   "metadata": {},
   "outputs": [],
   "source": [
    "def LocExtrema(a,div):        \n",
    "\n",
    "   \n",
    "    def f(x):\n",
    "        return coefficient_matrix(x, a, order=1)\n",
    "\n",
    "  \n",
    "    def df(x):\n",
    "        return coefficient_matrix(x, a, order=2)\n",
    "\n",
    "   \n",
    "    def NewtonRaphson(x0):\n",
    "        x = x0\n",
    "        for _ in range(100):\n",
    "            x_next = x - f(x) / df(x)\n",
    "            if abs(x_next - x) < 1.0e-8:\n",
    "                break\n",
    "            x = x_next\n",
    "        \n",
    "        return x\n",
    "\n",
    "    \n",
    "    check_points = np.linspace(0.0, np.pi, div)\n",
    "\n",
    "  \n",
    "    sign_reverse_section = [p for p in zip(check_points, check_points[1:]) if f(p[0])*f(p[1]) <= 0]\n",
    "\n",
    " \n",
    "    return [NewtonRaphson(x) for x,_ in sign_reverse_section]"
   ]
  },
  {
   "cell_type": "code",
   "execution_count": 45,
   "metadata": {},
   "outputs": [],
   "source": [
    "def initialize(n, bandedge, transition): \n",
    "\n",
    "    num_point = n+2\n",
    "\n",
    "\n",
    "    num_passband = int(num_point*bandedge/np.pi)\n",
    "\n",
    "\n",
    "    num_stopband = num_point-num_passband\n",
    "\n",
    "   \n",
    "    return np.append(\n",
    "        np.linspace(     0.0, bandedge-0.5*transition, num_passband),\n",
    "        np.linspace(bandedge+0.5*transition,  np.pi, num_stopband))"
   ]
  },
  {
   "cell_type": "code",
   "execution_count": 46,
   "metadata": {},
   "outputs": [],
   "source": [
    "def SolveForA(arrx, bandedge, filttype):  \n",
    "\n",
    "   \n",
    "    matrix_cosines = np.array(\n",
    "        [[np.cos(x*k) for k in range(len(arrx)-1)] + [(-1)**j] \\\n",
    "                        for j,x in enumerate(arrx)])\n",
    "\n",
    "  \n",
    "    vector_b = np.array([ideal_filter(x, bandedge, filttype) for x in arrx])\n",
    "\n",
    " \n",
    "    u = np.linalg.solve(matrix_cosines, vector_b)\n",
    "\n",
    "   \n",
    "    return u[:-1], u[-1]"
   ]
  },
  {
   "cell_type": "code",
   "execution_count": 47,
   "metadata": {},
   "outputs": [],
   "source": [
    "def CriticalCount(a, bandedge, transition):  \n",
    "\n",
    "   \n",
    "    n = len(a)-1\n",
    "\n",
    "    \n",
    "    extreme_points = LocExtrema(a, (n+2)*10)\n",
    "\n",
    "    extreme_points.append(bandedge-transition*0.5)\n",
    "    extreme_points.append(bandedge+transition*0.5)\n",
    "    extreme_points.sort()\n",
    "\n",
    "    if len(extreme_points) == n+1:\n",
    "      \n",
    "        extreme_points.append(np.pi)\n",
    "        return extreme_points\n",
    "\n",
    "    elif len(extreme_points) == n+2:\n",
    "       \n",
    "        return extreme_points\n",
    "\n",
    "    elif len(extreme_points) == n+3:\n",
    "     \n",
    "        extreme_points.pop(0)\n",
    "        return extreme_points\n",
    "\n",
    "    else:\n",
    "        raise Exception(\"[ERROR]number of extreme point \" + \\\n",
    "            str(n+2) + \"->\" + str(len(extreme_points)))"
   ]
  },
  {
   "cell_type": "code",
   "execution_count": 48,
   "metadata": {},
   "outputs": [],
   "source": [
    "def check_convergence(a, x, bandedge, filttype):\n",
    "\n",
    "  \n",
    "    def ef(x):\n",
    "        return coefficient_matrix(x, a, order=0)-ideal_filter(x, bandedge, filttype)\n",
    "\n",
    "    return np.var([ef(x)*(-1)**k for k,x in enumerate(x)]) < 1.0e-12"
   ]
  },
  {
   "cell_type": "code",
   "execution_count": 49,
   "metadata": {},
   "outputs": [],
   "source": [
    "def PM(order, bandedge, transition, filttype = \"Low\"):\n",
    "\n",
    "    n = (order-1)//2 \n",
    "\n",
    "    max_iter=100\n",
    "    \n",
    "    x = initialize(n, bandedge, transition)\n",
    "\n",
    "    for epoch in range(1, max_iter+1):\n",
    "        \n",
    "        list_a, d = SolveForA(x, bandedge, filttype)\n",
    "\n",
    "       \n",
    "        x = CriticalCount(list_a, bandedge, transition)\n",
    "\n",
    "        if check_convergence(list_a, x, bandedge, filttype):\n",
    "          \n",
    "            list_h = [a*0.5 for a in reversed(list_a[1:])] + [list_a[0]] + [a*0.5 for a in list_a[1:]]\n",
    "            return list_h, d, list_a\n",
    "\n"
   ]
  },
  {
   "cell_type": "code",
   "execution_count": 54,
   "metadata": {},
   "outputs": [
    {
     "data": {
      "text/plain": [
       "[<matplotlib.lines.Line2D at 0x1d8ae922ee0>]"
      ]
     },
     "execution_count": 54,
     "metadata": {},
     "output_type": "execute_result"
    },
    {
     "data": {
      "image/png": "[encoded data removed]",
      "text/plain": [
       "<Figure size 640x480 with 1 Axes>"
      ]
     },
     "metadata": {},
     "output_type": "display_data"
    }
   ],
   "source": [
    "h, d, list_a = PM(order = 40, bandedge = np.pi * 0.7 , transition = np.pi * 0.1 , filttype=\"High\")\n",
    "\n",
    "a = firapm(h, 1000) \n",
    "min = np.min(a)\n",
    "a = a - 1.0001*min\n",
    "a = 20 *np.log(a)\n",
    "plt.xlabel('frequency Domain')\n",
    "plt.ylabel('Log of Amplitude')\n",
    "x = np.arange(0, np.pi, np.pi/1000)\n",
    "plt.plot(x, a)"
   ]
  }
 ],
 "metadata": {
  "kernelspec": {
   "display_name": "base",
   "language": "python",
   "name": "python3"
  },
  "language_info": {
   "codemirror_mode": {
    "name": "ipython",
    "version": 3
   },
   "file_extension": ".py",
   "mimetype": "text/x-python",
   "name": "python",
   "nbconvert_exporter": "python",
   "pygments_lexer": "ipython3",
   "version": "3.9.13"
  },
  "orig_nbformat": 4,
  "vscode": {
   "interpreter": {
    "hash": "dd25ad554e4370e30797bf0235702b2665ad6fb58503cae9a34ffdb2391647b9"
   }
  }
 },
 "nbformat": 4,
 "nbformat_minor": 2
}
